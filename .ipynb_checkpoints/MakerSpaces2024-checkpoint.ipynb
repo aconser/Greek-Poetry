{
 "cells": [
  {
   "cell_type": "code",
   "execution_count": 9,
   "id": "b98b1f18",
   "metadata": {},
   "outputs": [
    {
     "name": "stdout",
     "output_type": "stream",
     "text": [
      "Collecting git+https://github.com/aconser/Greek-Poetry/\n",
      "  Cloning https://github.com/aconser/Greek-Poetry/ to /private/var/folders/9x/283wyf6n6z50n9w8l4mthxbh0000gq/T/pip-req-build-j1t8w89y\n",
      "  Running command git clone -q https://github.com/aconser/Greek-Poetry/ /private/var/folders/9x/283wyf6n6z50n9w8l4mthxbh0000gq/T/pip-req-build-j1t8w89y\n",
      "  xcode-select: note: No developer tools were found, requesting install.\n",
      "  If developer tools are located at a non-default location on disk, use `sudo xcode-select --switch path/to/Xcode.app` to specify the Xcode that you wish to use for command line developer tools, and cancel the installation dialog.\n",
      "  See `man xcode-select` for more details.\n",
      "\u001b[33mWARNING: Discarding git+https://github.com/aconser/Greek-Poetry/. Command errored out with exit status 1: git clone -q https://github.com/aconser/Greek-Poetry/ /private/var/folders/9x/283wyf6n6z50n9w8l4mthxbh0000gq/T/pip-req-build-j1t8w89y Check the logs for full command output.\u001b[0m\n",
      "\u001b[31mERROR: Command errored out with exit status 1: git clone -q https://github.com/aconser/Greek-Poetry/ /private/var/folders/9x/283wyf6n6z50n9w8l4mthxbh0000gq/T/pip-req-build-j1t8w89y Check the logs for full command output.\u001b[0m\n",
      "Note: you may need to restart the kernel to use updated packages.\n"
     ]
    }
   ],
   "source": [
    "pip install git+https://github.com/aconser/Greek-Poetry/"
   ]
  },
  {
   "cell_type": "code",
   "execution_count": 8,
   "id": "ff3ccd91",
   "metadata": {},
   "outputs": [
    {
     "ename": "ModuleNotFoundError",
     "evalue": "No module named 'Analysis'",
     "output_type": "error",
     "traceback": [
      "\u001b[0;31m---------------------------------------------------------------------------\u001b[0m",
      "\u001b[0;31mModuleNotFoundError\u001b[0m                       Traceback (most recent call last)",
      "Input \u001b[0;32mIn [8]\u001b[0m, in \u001b[0;36m<cell line: 1>\u001b[0;34m()\u001b[0m\n\u001b[0;32m----> 1\u001b[0m \u001b[38;5;28;01mimport\u001b[39;00m \u001b[38;5;21;01mAnalysis\u001b[39;00m\u001b[38;5;21;01m.\u001b[39;00m\u001b[38;5;21;01mclass_author\u001b[39;00m \u001b[38;5;28;01mas\u001b[39;00m \u001b[38;5;21;01mCA\u001b[39;00m\n",
      "\u001b[0;31mModuleNotFoundError\u001b[0m: No module named 'Analysis'"
     ]
    }
   ],
   "source": [
    "import Analysis.class_author as CA"
   ]
  },
  {
   "cell_type": "code",
   "execution_count": null,
   "id": "c06fbbc2",
   "metadata": {},
   "outputs": [],
   "source": []
  },
  {
   "cell_type": "code",
   "execution_count": 4,
   "id": "647dc48b",
   "metadata": {},
   "outputs": [
    {
     "ename": "FileNotFoundError",
     "evalue": "[Errno 2] No such file or directory: 'Users/conser/Library/CloudStorage/OneDrive-UniversityofCincinnati/Research/Python Scripts/Greek-Poetry/'",
     "output_type": "error",
     "traceback": [
      "\u001b[0;31m---------------------------------------------------------------------------\u001b[0m",
      "\u001b[0;31mFileNotFoundError\u001b[0m                         Traceback (most recent call last)",
      "Input \u001b[0;32mIn [4]\u001b[0m, in \u001b[0;36m<cell line: 2>\u001b[0;34m()\u001b[0m\n\u001b[1;32m      1\u001b[0m \u001b[38;5;28;01mimport\u001b[39;00m \u001b[38;5;21;01mos\u001b[39;00m\n\u001b[0;32m----> 2\u001b[0m \u001b[43mos\u001b[49m\u001b[38;5;241;43m.\u001b[39;49m\u001b[43mchdir\u001b[49m\u001b[43m(\u001b[49m\u001b[38;5;124;43m\"\u001b[39;49m\u001b[38;5;124;43mUsers/conser/Library/CloudStorage/OneDrive-UniversityofCincinnati/Research/Python Scripts/Greek-Poetry/\u001b[39;49m\u001b[38;5;124;43m\"\u001b[39;49m\u001b[43m)\u001b[49m\n",
      "\u001b[0;31mFileNotFoundError\u001b[0m: [Errno 2] No such file or directory: 'Users/conser/Library/CloudStorage/OneDrive-UniversityofCincinnati/Research/Python Scripts/Greek-Poetry/'"
     ]
    }
   ],
   "source": [
    "import os\n",
    "os.chdir(\"Users/conser/Library/CloudStorage/OneDrive-UniversityofCincinnati/Research/Python Scripts/Greek-Poetry/\")"
   ]
  },
  {
   "cell_type": "code",
   "execution_count": null,
   "id": "f28a823b",
   "metadata": {},
   "outputs": [],
   "source": []
  }
 ],
 "metadata": {
  "kernelspec": {
   "display_name": "Python 3 (ipykernel)",
   "language": "python",
   "name": "python3"
  },
  "language_info": {
   "codemirror_mode": {
    "name": "ipython",
    "version": 3
   },
   "file_extension": ".py",
   "mimetype": "text/x-python",
   "name": "python",
   "nbconvert_exporter": "python",
   "pygments_lexer": "ipython3",
   "version": "3.9.12"
  }
 },
 "nbformat": 4,
 "nbformat_minor": 5
}
