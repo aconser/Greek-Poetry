{
 "cells": [
  {
   "cell_type": "markdown",
   "metadata": {},
   "source": [
    "Analysis of Accentual Responsion in the Antistrophic Songs of Greek Tragedy  \n",
    "(dissertation research)  \n",
    "  \n",
    "by  \n",
    "  \n",
    "Anna Conser  \n",
    "Columbia University  \n",
    "anna.conser@columbia.edu  \n",
    "  \n",
    "May 29, 2018  \n",
    "  \n",
    "  \n",
    "These scripts use the accentual analysis tools in my Greek-Poetry repository to illustrate my findings on the responsion of accentual contours between paired stanzas (strophe and antistrophe) in the songs of Greek tragedy.  The code I have written breaks each stanza up into syllables (taking resolutions into account), and aligns the syllables between the two stanzas according to the meter.  For each syllable, it is determined whether the accentual contours of the containing word/phrase demand that the melody rise, fall or repeat the current note.  This is done using the principles of melody-accent alignment which are exhibited in many ancient musical documents, and especially in the celebrated Delphic Hymns.  \n",
    "  \n",
    "By comparing the 'melodic' contours of the two paired stanzas, it can be determined how well the melodies align.  If the composers respected the accents in their melodies, then contradictions could only be resolved by repeating notes.  In this case, the number of contradictions indicates the repetitiveness of the original melody."
   ]
  },
  {
   "cell_type": "code",
   "execution_count": 1,
   "metadata": {},
   "outputs": [],
   "source": [
    "from Analysis.class_play import Play\n",
    "Corpus_Directory = 'C:/Users/Anna/Anaconda3/SongDatabase/Corpus/'"
   ]
  },
  {
   "cell_type": "markdown",
   "metadata": {},
   "source": [
    "It is useful to begin by examining two control groups, to demonstrate that the findings in tragic songs are not due to the chance alignment of accents.  \n",
    "  \n",
    "PROSE CONTROL  \n",
    "  \n",
    "My first control group is the first twelve sections of Lysias' Against Eratosthenes, paired one with another (1+2, 3+4) to create six imaginary stanza pairs.  In each pair, the longer section is trimmed to match the shorter in terms of number of syllables.  \n",
    "  \n",
    "The results should be:  \n",
    "MATCH %  :  5  \n",
    "REPEAT % : 26  "
   ]
  },
  {
   "cell_type": "code",
   "execution_count": 2,
   "metadata": {},
   "outputs": [
    {
     "ename": "FileNotFoundError",
     "evalue": "[Errno 2] No such file or directory: 'C:/Users/Anna/Anaconda3/SongDatabase/Corpus/Control/Lysias.csv'",
     "output_type": "error",
     "traceback": [
      "\u001b[0;31m---------------------------------------------------------------------------\u001b[0m",
      "\u001b[0;31mFileNotFoundError\u001b[0m                         Traceback (most recent call last)",
      "\u001b[0;32m<ipython-input-2-b20b41c1f071>\u001b[0m in \u001b[0;36m<module>\u001b[0;34m()\u001b[0m\n\u001b[1;32m      1\u001b[0m \u001b[0mcontrol_directory\u001b[0m \u001b[0;34m=\u001b[0m \u001b[0mCorpus_Directory\u001b[0m \u001b[0;34m+\u001b[0m \u001b[0;34m'Control/'\u001b[0m\u001b[0;34m\u001b[0m\u001b[0m\n\u001b[1;32m      2\u001b[0m \u001b[0mlysias_file\u001b[0m \u001b[0;34m=\u001b[0m \u001b[0;34m'Lysias.csv'\u001b[0m\u001b[0;34m\u001b[0m\u001b[0m\n\u001b[0;32m----> 3\u001b[0;31m \u001b[0mLysias\u001b[0m \u001b[0;34m=\u001b[0m \u001b[0mPlay\u001b[0m\u001b[0;34m(\u001b[0m\u001b[0;34m'Lysias'\u001b[0m\u001b[0;34m,\u001b[0m \u001b[0mlysias_file\u001b[0m\u001b[0;34m,\u001b[0m \u001b[0mcontrol_directory\u001b[0m\u001b[0;34m)\u001b[0m\u001b[0;34m\u001b[0m\u001b[0m\n\u001b[0m\u001b[1;32m      4\u001b[0m \u001b[0mLysias\u001b[0m\u001b[0;34m.\u001b[0m\u001b[0mdisplay\u001b[0m\u001b[0;34m(\u001b[0m\u001b[0;34m)\u001b[0m\u001b[0;34m\u001b[0m\u001b[0m\n",
      "\u001b[0;32m~/Documents/Python Scripts/Greek-Poetry/Analysis/class_play.py\u001b[0m in \u001b[0;36m__init__\u001b[0;34m(self, name, file, directory)\u001b[0m\n\u001b[1;32m     21\u001b[0m         \u001b[0mself\u001b[0m\u001b[0;34m.\u001b[0m\u001b[0mname\u001b[0m \u001b[0;34m=\u001b[0m \u001b[0mname\u001b[0m\u001b[0;34m\u001b[0m\u001b[0m\n\u001b[1;32m     22\u001b[0m         \u001b[0mself\u001b[0m\u001b[0;34m.\u001b[0m\u001b[0mfile\u001b[0m \u001b[0;34m=\u001b[0m \u001b[0mfile\u001b[0m\u001b[0;34m\u001b[0m\u001b[0m\n\u001b[0;32m---> 23\u001b[0;31m         \u001b[0mself\u001b[0m\u001b[0;34m.\u001b[0m\u001b[0mraw_csv\u001b[0m \u001b[0;34m=\u001b[0m \u001b[0mimport_csv\u001b[0m\u001b[0;34m(\u001b[0m\u001b[0mfile\u001b[0m\u001b[0;34m,\u001b[0m \u001b[0mdirectory\u001b[0m\u001b[0;34m)\u001b[0m\u001b[0;34m\u001b[0m\u001b[0m\n\u001b[0m\u001b[1;32m     24\u001b[0m         \u001b[0mself\u001b[0m\u001b[0;34m.\u001b[0m\u001b[0mpairs\u001b[0m\u001b[0;34m=\u001b[0m\u001b[0mself\u001b[0m\u001b[0;34m.\u001b[0m\u001b[0m_stanza_pairs\u001b[0m\u001b[0;34m(\u001b[0m\u001b[0;34m)\u001b[0m\u001b[0;34m\u001b[0m\u001b[0m\n\u001b[1;32m     25\u001b[0m         \u001b[0mself\u001b[0m\u001b[0;34m.\u001b[0m\u001b[0m_meter_dict\u001b[0m \u001b[0;34m=\u001b[0m \u001b[0;34m{\u001b[0m\u001b[0;34m}\u001b[0m\u001b[0;34m\u001b[0m\u001b[0m\n",
      "\u001b[0;32m~/Documents/Python Scripts/Greek-Poetry/Utilities/stanza_utilities.py\u001b[0m in \u001b[0;36mimport_csv\u001b[0;34m(file_name, directory)\u001b[0m\n\u001b[1;32m     56\u001b[0m         \u001b[0mfile_name\u001b[0m \u001b[0;34m=\u001b[0m \u001b[0mfile_name\u001b[0m\u001b[0;34m[\u001b[0m\u001b[0;34m:\u001b[0m\u001b[0;34m-\u001b[0m\u001b[0;36m4\u001b[0m\u001b[0;34m]\u001b[0m\u001b[0;34m\u001b[0m\u001b[0m\n\u001b[1;32m     57\u001b[0m     \u001b[0mcsv_file\u001b[0m \u001b[0;34m=\u001b[0m \u001b[0mdirectory\u001b[0m \u001b[0;34m+\u001b[0m \u001b[0mfile_name\u001b[0m \u001b[0;34m+\u001b[0m \u001b[0;34m'.csv'\u001b[0m\u001b[0;34m\u001b[0m\u001b[0m\n\u001b[0;32m---> 58\u001b[0;31m     \u001b[0;32mwith\u001b[0m \u001b[0mopen\u001b[0m\u001b[0;34m(\u001b[0m\u001b[0mcsv_file\u001b[0m\u001b[0;34m,\u001b[0m \u001b[0;34m'r'\u001b[0m\u001b[0;34m,\u001b[0m \u001b[0mencoding\u001b[0m\u001b[0;34m=\u001b[0m\u001b[0;34m'utf8'\u001b[0m\u001b[0;34m)\u001b[0m \u001b[0;32mas\u001b[0m \u001b[0mfile\u001b[0m\u001b[0;34m:\u001b[0m\u001b[0;34m\u001b[0m\u001b[0m\n\u001b[0m\u001b[1;32m     59\u001b[0m         \u001b[0mreader\u001b[0m \u001b[0;34m=\u001b[0m \u001b[0mcsv\u001b[0m\u001b[0;34m.\u001b[0m\u001b[0mreader\u001b[0m\u001b[0;34m(\u001b[0m\u001b[0mfile\u001b[0m\u001b[0;34m,\u001b[0m \u001b[0mquotechar\u001b[0m\u001b[0;34m=\u001b[0m\u001b[0;34m'\"'\u001b[0m\u001b[0;34m,\u001b[0m \u001b[0mdelimiter\u001b[0m\u001b[0;34m=\u001b[0m\u001b[0;34m','\u001b[0m\u001b[0;34m,\u001b[0m \u001b[0mquoting\u001b[0m\u001b[0;34m=\u001b[0m\u001b[0mcsv\u001b[0m\u001b[0;34m.\u001b[0m\u001b[0mQUOTE_ALL\u001b[0m\u001b[0;34m)\u001b[0m\u001b[0;34m\u001b[0m\u001b[0m\n\u001b[1;32m     60\u001b[0m         \u001b[0;32mfor\u001b[0m \u001b[0mrow\u001b[0m \u001b[0;32min\u001b[0m \u001b[0mreader\u001b[0m\u001b[0;34m:\u001b[0m\u001b[0;34m\u001b[0m\u001b[0m\n",
      "\u001b[0;31mFileNotFoundError\u001b[0m: [Errno 2] No such file or directory: 'C:/Users/Anna/Anaconda3/SongDatabase/Corpus/Control/Lysias.csv'"
     ]
    }
   ],
   "source": [
    "control_directory = Corpus_Directory + 'Control/'\n",
    "lysias_file = 'Lysias.csv'\n",
    "Lysias = Play('Lysias', lysias_file, control_directory)\n",
    "Lysias.display()"
   ]
  },
  {
   "cell_type": "markdown",
   "metadata": {},
   "source": [
    "TRIMETER CONTROL (ANTIGONE)  \n",
    "  \n",
    "The results should be:  \n",
    "MATCH %  :  8  \n",
    "REPEAT % : 23  "
   ]
  },
  {
   "cell_type": "code",
   "execution_count": null,
   "metadata": {
    "collapsed": true
   },
   "outputs": [],
   "source": [
    "t_directory = Corpus_Directory + 'Control/'\n",
    "t_file = 'Soph-Ant-trimeter.csv'\n",
    "T = Play('trimeter', t_file, t_directory)\n",
    "T.display()"
   ]
  },
  {
   "cell_type": "markdown",
   "metadata": {},
   "source": [
    "SOPHOCLES, ANTIGONE  \n",
    "  \n",
    "MATCH %  :  12  \n",
    "REPEAT % : 17  "
   ]
  },
  {
   "cell_type": "code",
   "execution_count": null,
   "metadata": {
    "collapsed": true
   },
   "outputs": [],
   "source": [
    "s_directory = Corpus_Directory + 'Sophocles/'\n",
    "s_file = 'Soph-Ant.csv'\n",
    "Antigone = Play('Antigone', s_file, s_directory)\n",
    "Antigone.display()"
   ]
  },
  {
   "cell_type": "markdown",
   "metadata": {},
   "source": [
    "AGAMEMNON  \n",
    "  \n",
    "MATCH %  :  11  \n",
    "REPEAT % : 19  "
   ]
  },
  {
   "cell_type": "code",
   "execution_count": null,
   "metadata": {
    "collapsed": true
   },
   "outputs": [],
   "source": [
    "A_directory = Corpus_Directory + 'Aeschylus/'\n",
    "Ag_file = 'Aesch-Ag.csv'\n",
    "Ag = Play('Agamemnon', Ag_file, A_directory)\n",
    "Ag.display()"
   ]
  },
  {
   "cell_type": "markdown",
   "metadata": {},
   "source": [
    "ALL AESCHYLUS BY PLAY  \n",
    "  \n",
    "  Match / Repeat  \n",
    " Ag: 11 / 19  \n",
    " Eu: 12 / 17  \n",
    " Li: 13 / 17  \n",
    " PB: 14 / 16  \n",
    " Pe: 10 / 21  \n",
    " Se: 9  / 21  \n",
    " Su: 11 / 20  "
   ]
  },
  {
   "cell_type": "code",
   "execution_count": null,
   "metadata": {
    "collapsed": true
   },
   "outputs": [],
   "source": [
    "from os import listdir\n",
    "A_directory = Corpus_Directory + 'Aeschylus/'\n",
    "file_list = listdir(A_directory)\n",
    "play_list = []\n",
    "for file in file_list:\n",
    "    print('Adding {} to list'.format(file))\n",
    "    p = Play(file[6:-4], file, A_directory)\n",
    "    play_list.append(p)"
   ]
  },
  {
   "cell_type": "code",
   "execution_count": null,
   "metadata": {
    "collapsed": true
   },
   "outputs": [],
   "source": [
    "for p in play_list:\n",
    "    p.display()"
   ]
  },
  {
   "cell_type": "markdown",
   "metadata": {},
   "source": [
    "TOTALS / AVERAGES  \n",
    "for Aeschylus  \n",
    "  \n",
    "MATCH %  : 11  \n",
    "REPEAT % : 19"
   ]
  },
  {
   "cell_type": "code",
   "execution_count": null,
   "metadata": {
    "collapsed": true
   },
   "outputs": [],
   "source": [
    "match_total = 0\n",
    "repeat_total = 0\n",
    "syl_count = 0\n",
    "for p in play_list:\n",
    "    print(p.name)\n",
    "    p.add_stats()\n",
    "    match_total += p.M1\n",
    "    repeat_total += p.repeat_count\n",
    "    syl_count += p.syl_count\n",
    "    print('Match total: {}'.format(match_total))\n",
    "    print('Repeat total: {}'.format(repeat_total))\n",
    "    print('Syllable total: {}'.format(syl_count)\n",
    "    print()\n",
    "match_average = int(match_total/syl_count * 100)\n",
    "repeat_average = int(repeat_total/syl_count * 100)\n",
    "print('Average Percent Match: {}'.format(match_average))\n",
    "print('Average Percent Repetition: {}'.format(repeat_average))"
   ]
  },
  {
   "cell_type": "markdown",
   "metadata": {},
   "source": [
    "EURIPIDES, HERACLES"
   ]
  },
  {
   "cell_type": "code",
   "execution_count": null,
   "metadata": {},
   "outputs": [],
   "source": [
    "E_directory = Corpus_Directory + 'Euripides/'\n",
    "Heracles_file = 'Eur-Her-NEW.csv'\n",
    "Heracles = Play('Heracles', Heracles_file, E_directory)\n",
    "Heracles.display()"
   ]
  },
  {
   "cell_type": "code",
   "execution_count": null,
   "metadata": {
    "collapsed": true
   },
   "outputs": [],
   "source": []
  }
 ],
 "metadata": {
  "kernelspec": {
   "display_name": "Python 3",
   "language": "python",
   "name": "python3"
  },
  "language_info": {
   "codemirror_mode": {
    "name": "ipython",
    "version": 3
   },
   "file_extension": ".py",
   "mimetype": "text/x-python",
   "name": "python",
   "nbconvert_exporter": "python",
   "pygments_lexer": "ipython3",
   "version": "3.6.5"
  }
 },
 "nbformat": 4,
 "nbformat_minor": 2
}
