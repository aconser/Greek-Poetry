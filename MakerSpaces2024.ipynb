{
 "cells": [
  {
   "cell_type": "markdown",
   "id": "0384be3f",
   "metadata": {},
   "source": [
    "Pitch Accents and Melody in Greek Tragedy\n",
    "\n",
    "Anna Conser\n",
    "Assistant Professor\n",
    "University of Cincinnati\n",
    "\n",
    "This demonstrates several potential uses of my Greek Poetry python package (https://github.com/aconser/Greek-Poetry).\n",
    "\n",
    "\n",
    "have developed software to analyze the melodic patterning of pitch accents in Greek lyric texts. In the ancient musical documents that survive with music notation, the rises and falls of the melody are often coordinated with the pitch contours of the word accents according to set principles. I have created a suite of python algorithms that apply these principles to texts with no melodic notation. In the case of Greek tragedy, my software compares the texts of paired stanzas (originally sung to the same music) and calculates various statistics on their musical qualities. This accentual data, alongside the more standard application of metrical analysis, allows researchers to interpret lyric texts within the context of their partially reconstructed musical settings. It also shines new light on differences between authors and the development of musical styles across time. In the future, I hope to develop a portal to make these tools available to literary scholars with no coding knowledge."
   ]
  },
  {
   "cell_type": "code",
   "execution_count": null,
   "id": "b98b1f18",
   "metadata": {},
   "outputs": [],
   "source": [
    "pip install git+https://github.com/aconser/Greek-Poetry/"
   ]
  },
  {
   "cell_type": "code",
   "execution_count": null,
   "id": "ff3ccd91",
   "metadata": {},
   "outputs": [],
   "source": [
    "from Greek_Prosody.syllables import get_syllables\n",
    "Ant = \"πολλὰ τὰ δεινὰ κοὐδὲν ἀνθρώπου δεινότερον πέλει·\"\n",
    "get_syllables(Ant)"
   ]
  },
  {
   "cell_type": "code",
   "execution_count": null,
   "id": "c06fbbc2",
   "metadata": {
    "scrolled": true
   },
   "outputs": [],
   "source": [
    "S = CA.Author('Sophocles')"
   ]
  },
  {
   "cell_type": "markdown",
   "id": "84884b0c",
   "metadata": {},
   "source": []
  },
  {
   "cell_type": "code",
   "execution_count": null,
   "id": "647dc48b",
   "metadata": {},
   "outputs": [],
   "source": [
    "import os\n",
    "os.chdir(\"Users/conser/Library/CloudStorage/OneDrive-UniversityofCincinnati/Research/Python Scripts/Greek-Poetry/\")"
   ]
  },
  {
   "cell_type": "code",
   "execution_count": null,
   "id": "f28a823b",
   "metadata": {},
   "outputs": [],
   "source": []
  }
 ],
 "metadata": {
  "kernelspec": {
   "display_name": "Python 3 (ipykernel)",
   "language": "python",
   "name": "python3"
  },
  "language_info": {
   "codemirror_mode": {
    "name": "ipython",
    "version": 3
   },
   "file_extension": ".py",
   "mimetype": "text/x-python",
   "name": "python",
   "nbconvert_exporter": "python",
   "pygments_lexer": "ipython3",
   "version": "3.9.12"
  }
 },
 "nbformat": 4,
 "nbformat_minor": 5
}
