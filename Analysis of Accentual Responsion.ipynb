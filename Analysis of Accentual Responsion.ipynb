{
 "cells": [
  {
   "cell_type": "markdown",
   "metadata": {},
   "source": [
    "Analysis of Accentual Responsion in the Antistrophic Songs of Greek Tragedy  \n",
    "(dissertation research)  \n",
    "  \n",
    "by  \n",
    "  \n",
    "Anna Conser  \n",
    "Columbia University  \n",
    "anna.conser@columbia.edu  \n",
    "  \n",
    "May 29, 2018  \n",
    "  \n",
    "  \n",
    "These scripts use the accentual analysis tools in my Greek-Poetry repository to illustrate my findings on the responsion of accentual contours between paired stanzas (strophe and antistrophe) in the songs of Greek tragedy.  The code I have written breaks each stanza up into syllables (taking resolutions into account), and aligns the syllables between the two stanzas according to the meter.  For each syllable, it is determined whether the accentual contours of the containing word/phrase demand that the melody rise, fall or repeat the current note.  This is done using the principles of melody-accent alignment which are exhibited in many ancient musical documents, and especially in the celebrated Delphic Hymns.  \n",
    "  \n",
    "By comparing the 'melodic' contours of the two paired stanzas, it can be determined how well the melodies align.  If the composers respected the accents in their melodies, then contradictions could only be resolved by repeating notes.  In this case, the number of contradictions indicates the repetitiveness of the original melody."
   ]
  },
  {
   "cell_type": "code",
   "execution_count": null,
   "metadata": {},
   "outputs": [],
   "source": [
    "from Analysis.class_play import Play\n",
    "Corpus_Directory = 'C:/Users/Anna/Anaconda3/SongDatabase/Corpus/'"
   ]
  },
  {
   "cell_type": "markdown",
   "metadata": {},
   "source": [
    "It is useful to begin by examining two control groups, to demonstrate that the findings in tragic songs are not due to the chance alignment of accents.  \n",
    "  \n",
    "PROSE CONTROL  \n",
    "  \n",
    "My first control group is the first twelve sections of Lysias' Against Eratosthenes, paired one with another (1+2, 3+4) to create six imaginary stanza pairs.  In each pair, the longer section is trimmed to match the shorter in terms of number of syllables.  \n",
    "  \n",
    "The results should be:  \n",
    "MATCH %  :  5  \n",
    "REPEAT % : 26  "
   ]
  },
  {
   "cell_type": "code",
   "execution_count": null,
   "metadata": {},
   "outputs": [],
   "source": [
    "control_directory = Corpus_Directory + 'Control/'\n",
    "lysias_file = 'Lysias.csv'\n",
    "Lysias = Play('Lysias', lysias_file, control_directory)\n",
    "Lysias.display()"
   ]
  },
  {
   "cell_type": "markdown",
   "metadata": {},
   "source": [
    "TRIMETER CONTROL (ANTIGONE)  \n",
    "  \n",
    "The results should be:  \n",
    "MATCH %  :  8  \n",
    "REPEAT % : 23  "
   ]
  },
  {
   "cell_type": "code",
   "execution_count": null,
   "metadata": {
    "collapsed": true
   },
   "outputs": [],
   "source": [
    "t_directory = Corpus_Directory + 'Control/'\n",
    "t_file = 'Soph-Ant-trimeter.csv'\n",
    "T = Play('trimeter', t_file, t_directory)\n",
    "T.display()"
   ]
  },
  {
   "cell_type": "markdown",
   "metadata": {},
   "source": [
    "SOPHOCLES, ANTIGONE  \n",
    "  \n",
    "MATCH %  :  12  \n",
    "REPEAT % : 17  "
   ]
  },
  {
   "cell_type": "code",
   "execution_count": null,
   "metadata": {
    "collapsed": true
   },
   "outputs": [],
   "source": [
    "s_directory = Corpus_Directory + 'Sophocles/'\n",
    "s_file = 'Soph-Ant.csv'\n",
    "Antigone = Play('Antigone', s_file, s_directory)\n",
    "Antigone.display()"
   ]
  },
  {
   "cell_type": "markdown",
   "metadata": {},
   "source": [
    "AGAMEMNON  \n",
    "  \n",
    "MATCH %  :  11  \n",
    "REPEAT % : 19  "
   ]
  },
  {
   "cell_type": "code",
   "execution_count": null,
   "metadata": {
    "collapsed": true
   },
   "outputs": [],
   "source": [
    "A_directory = Corpus_Directory + 'Aeschylus/'\n",
    "Ag_file = 'Aesch-Ag.csv'\n",
    "Ag = Play('Agamemnon', Ag_file, A_directory)\n",
    "Ag.display()"
   ]
  },
  {
   "cell_type": "markdown",
   "metadata": {},
   "source": [
    "ALL AESCHYLUS BY PLAY  \n",
    "  \n",
    "  Match / Repeat  \n",
    " Ag: 11 / 19  \n",
    " Eu: 12 / 17  \n",
    " Li: 13 / 17  \n",
    " PB: 14 / 16  \n",
    " Pe: 10 / 21  \n",
    " Se: 9  / 21  \n",
    " Su: 11 / 20  "
   ]
  },
  {
   "cell_type": "code",
   "execution_count": null,
   "metadata": {
    "collapsed": true
   },
   "outputs": [],
   "source": [
    "from os import listdir\n",
    "A_directory = Corpus_Directory + 'Aeschylus/'\n",
    "file_list = listdir(A_directory)\n",
    "play_list = []\n",
    "for file in file_list:\n",
    "    print('Adding {} to list'.format(file))\n",
    "    p = Play(file[6:-4], file, A_directory)\n",
    "    play_list.append(p)"
   ]
  },
  {
   "cell_type": "code",
   "execution_count": null,
   "metadata": {
    "collapsed": true
   },
   "outputs": [],
   "source": [
    "for p in play_list:\n",
    "    p.display()"
   ]
  },
  {
   "cell_type": "markdown",
   "metadata": {},
   "source": [
    "TOTALS / AVERAGES  \n",
    "for Aeschylus  \n",
    "  \n",
    "MATCH %  : 11  \n",
    "REPEAT % : 19"
   ]
  },
  {
   "cell_type": "code",
   "execution_count": null,
   "metadata": {
    "collapsed": true
   },
   "outputs": [],
   "source": [
    "match_total = 0\n",
    "repeat_total = 0\n",
    "syl_count = 0\n",
    "for p in play_list:\n",
    "    print(p.name)\n",
    "    p.add_stats()\n",
    "    match_total += p.M1\n",
    "    repeat_total += p.repeat_count\n",
    "    syl_count += p.syl_count\n",
    "    print('Match total: {}'.format(match_total))\n",
    "    print('Repeat total: {}'.format(repeat_total))\n",
    "    print('Syllable total: {}'.format(syl_count)\n",
    "    print()\n",
    "match_average = int(match_total/syl_count * 100)\n",
    "repeat_average = int(repeat_total/syl_count * 100)\n",
    "print('Average Percent Match: {}'.format(match_average))\n",
    "print('Average Percent Repetition: {}'.format(repeat_average))"
   ]
  },
  {
   "cell_type": "markdown",
   "metadata": {},
   "source": [
    "EURIPIDES, HERACLES"
   ]
  },
  {
   "cell_type": "code",
   "execution_count": null,
   "metadata": {},
   "outputs": [],
   "source": [
    "E_directory = Corpus_Directory + 'Euripides/'\n",
    "Heracles_file = 'Eur-Her-NEW.csv'\n",
    "Heracles = Play('Heracles', Heracles_file, E_directory)\n",
    "Heracles.display()"
   ]
  },
  {
   "cell_type": "code",
   "execution_count": null,
   "metadata": {
    "collapsed": true
   },
   "outputs": [],
   "source": []
  }
 ],
 "metadata": {
  "kernelspec": {
   "display_name": "Python 3",
   "language": "python",
   "name": "python3"
  },
  "language_info": {
   "codemirror_mode": {
    "name": "ipython",
    "version": 3
   },
   "file_extension": ".py",
   "mimetype": "text/x-python",
   "name": "python",
   "nbconvert_exporter": "python",
   "pygments_lexer": "ipython3",
   "version": "3.6.2"
  }
 },
 "nbformat": 4,
 "nbformat_minor": 2
}
